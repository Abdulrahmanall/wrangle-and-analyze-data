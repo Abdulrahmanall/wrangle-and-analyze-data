{
 "cells": [
  {
   "cell_type": "markdown",
   "metadata": {},
   "source": [
    "# Twitter data wrangling Report "
   ]
  },
  {
   "cell_type": "markdown",
   "metadata": {},
   "source": [
    "In this report we will wrangle WeRateDogs Twitter data."
   ]
  },
  {
   "cell_type": "markdown",
   "metadata": {},
   "source": [
    "## Gathering  Data"
   ]
  },
  {
   "cell_type": "markdown",
   "metadata": {},
   "source": [
    "Gathering Data is always the first step in data wrangling, We will gather the data from three different sources."
   ]
  },
  {
   "cell_type": "markdown",
   "metadata": {},
   "source": [
    "#### - The fisrt source  - file on hand :\n",
    "This file  we wnat is The WeRateDogs Twitter archive. WeRateDogs downloaded their Twitter archive and sent it to Udacity via email, This archive contains basic tweet data (tweet ID, timestamp, text, etc.) for all 5000+ of their tweets as they stood on August 1, 2017.. we Downloaded this file manually from Udacity instructors its name is `twitter_archive_enhanced.csv`.<br/>"
   ]
  },
  {
   "cell_type": "markdown",
   "metadata": {},
   "source": [
    "#### - The second source - extracted programmatically :\n",
    "\n",
    "Since the fist file not has all the data we want then we will extracted programmatically which is hosted on Udacity's servers , Its name is `image_predictions.tsv`."
   ]
  },
  {
   "cell_type": "markdown",
   "metadata": {},
   "source": [
    "#### - The third source - Twitter API :\n",
    "\n",
    "There are some information are missed from twittes detials wich are \"retweet_count\" and \"favorite_count\". Since we did have tiwtter development account and it going to take time to have, We diceded to got this file from Udacity instructors, its name is `tweet-json.txt`\n",
    "\n",
    "This file is text File with json structure and it has alot of data, We trying to read this file and extract the data what we have insereasting in ( \"retweet_count\" and \"favorite_count\")."
   ]
  },
  {
   "cell_type": "markdown",
   "metadata": {},
   "source": [
    "## Assessing Data"
   ]
  },
  {
   "cell_type": "markdown",
   "metadata": {},
   "source": [
    "Assessing data is the second step of the data wrangling process. We want to make sure our data is in form and clean that make our analysis easier."
   ]
  },
  {
   "cell_type": "markdown",
   "metadata": {},
   "source": [
    "After we assessed the data visually then programmatically using some of the programing function such as ( .info, .head, .tail .describe and many else ) we finded out the following :"
   ]
  },
  {
   "cell_type": "markdown",
   "metadata": {},
   "source": [
    "#### Quality\n",
    "##### `Twitter-archive-enhanced `table\n",
    "- Tweet_id datatype should be a string.\n",
    "- Timestamp datatype should be data time.\n",
    "- Rating_denominator has 0 values\n",
    "- There are unreasonable rate at the column that has the value of  (rating_numerator /  rating_denominator ).\n",
    "- We only want original tweets no the retweets. \n",
    "- Most the folowing column are null, i think we don't need it (in_reply_to_status_id,in_reply_to_user_id, retweeted_status_id, retweeted_status_user_id and retweeted_status_timestamp).\n",
    "- Sorce column shoub have clear value instead of HTML tags.\n",
    "- Sorce column shoud be categorical datatype.\n",
    "- A lot of null in these columns (doggo, floofer, pupper and puppo).\n",
    "\n",
    "##### `Image-predictions`table\n",
    "- Tweet_id datatype should be a string.\n",
    "\n",
    "##### `Favorite_retweet_count`table\n",
    "- Tweet_id datatype should be a string.\n",
    "\n",
    "#### Tidiness\n",
    "- Favorite_retweet_count table should be part of the Twitter-archive-enhanced table.\n",
    "- Text column in Twitter-archive-enhanced table should split to Tweet_text and Tweet_link\n",
    "- Four columns shoud be one with four values(doggo, floofer, pupper and puppo) as dog stages.\n",
    "- One column \"rate\" for the value of two columns (rating_numerator / rating_denominator )\n",
    "- Image-predictions table should be part of the mane table Twitter-archive-enhanced"
   ]
  },
  {
   "cell_type": "markdown",
   "metadata": {},
   "source": [
    "## Cleaning Data"
   ]
  },
  {
   "cell_type": "markdown",
   "metadata": {},
   "source": [
    "Cleaning Data is the third step of the data wrangling process."
   ]
  },
  {
   "cell_type": "markdown",
   "metadata": {},
   "source": [
    "We start by take a copy of the orginal data Frame that we have then chang the columns datatypes, Remove unwanted data rows and columns such as \"retweets details\",Revise data for some columns that contain false or untidy data like source column in the main table has HTML tage and then merage that dataframes that have the same type of observational unit to table or same observation to a row."
   ]
  },
  {
   "cell_type": "markdown",
   "metadata": {},
   "source": [
    "## Storing Data"
   ]
  },
  {
   "cell_type": "markdown",
   "metadata": {},
   "source": [
    "Finally after the data cleaning was completed, We crated a CSV File using Pandas to store Cleaned data. the new cleaned file name is `'twitter_archive_master.csv'`."
   ]
  },
  {
   "cell_type": "markdown",
   "metadata": {},
   "source": [
    "## The End Thank You,"
   ]
  }
 ],
 "metadata": {
  "kernelspec": {
   "display_name": "Python 3",
   "language": "python",
   "name": "python3"
  },
  "language_info": {
   "codemirror_mode": {
    "name": "ipython",
    "version": 3
   },
   "file_extension": ".py",
   "mimetype": "text/x-python",
   "name": "python",
   "nbconvert_exporter": "python",
   "pygments_lexer": "ipython3",
   "version": "3.6.3"
  }
 },
 "nbformat": 4,
 "nbformat_minor": 2
}
